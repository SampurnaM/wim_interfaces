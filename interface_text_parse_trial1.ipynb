{
 "cells": [
  {
   "cell_type": "code",
   "execution_count": 69,
   "metadata": {},
   "outputs": [],
   "source": [
    "#Code to visualize Interface residues and Hydrogen bonds of HLA-Ab complexes\n",
    "#Sampurna Mukherjee, February 2020\n",
    "\n",
    "#importing neccessary packages\n",
    "import pandas as pd\n",
    "import numpy as np\n",
    "import matplotlib as plt\n",
    "import os\n",
    "import glob"
   ]
  },
  {
   "cell_type": "code",
   "execution_count": 72,
   "metadata": {},
   "outputs": [],
   "source": [
    "for name in glob.glob('dir/subdir/*'):\n",
    "    print('\\t', name )"
   ]
  },
  {
   "cell_type": "code",
   "execution_count": 33,
   "metadata": {},
   "outputs": [
    {
     "name": "stdout",
     "output_type": "stream",
     "text": [
      "Enter directory name : \n",
      "out_wim_0101\n"
     ]
    },
    {
     "data": {
      "text/plain": [
       "'/mnt/c/Users/sampurna/OneDrive - emblebi/a_current_work_in_progres/current_work_from_feb_2020/wim_interfaces'"
      ]
     },
     "execution_count": 33,
     "metadata": {},
     "output_type": "execute_result"
    }
   ],
   "source": [
    "#getting the directory \n",
    "print(\"Enter directory name : \")\n",
    "directory_name = input()\n",
    "path = os.getcwd()\n",
    "path"
   ]
  },
  {
   "cell_type": "code",
   "execution_count": 68,
   "metadata": {},
   "outputs": [
    {
     "name": "stdout",
     "output_type": "stream",
     "text": [
      "/mnt/c/Users/sampurna/OneDrive - emblebi/a_current_work_in_progres/current_work_from_feb_2020/wim_interfaces/out_wim_0101/molecule_2.txt/mnt/c/Users/sampurna/OneDrive - emblebi/a_current_work_in_progres/current_work_from_feb_2020/wim_interfaces/out_wim_0201/molecule_2.txt/mnt/c/Users/sampurna/OneDrive - emblebi/a_current_work_in_progres/current_work_from_feb_2020/wim_interfaces/out_wim_1101/molecule_2.txt/mnt/c/Users/sampurna/OneDrive - emblebi/a_current_work_in_progres/current_work_from_feb_2020/wim_interfaces/out_wim_1102/molecule_2.txt/mnt/c/Users/sampurna/OneDrive - emblebi/a_current_work_in_progres/current_work_from_feb_2020/wim_interfaces/out_wim_2402/molecule_2.txt/mnt/c/Users/sampurna/OneDrive - emblebi/a_current_work_in_progres/current_work_from_feb_2020/wim_interfaces/out_wim_2501/molecule_2.txt/mnt/c/Users/sampurna/OneDrive - emblebi/a_current_work_in_progres/current_work_from_feb_2020/wim_interfaces/out_wim_3101/molecule_2.txt\n"
     ]
    }
   ],
   "source": [
    "#code to read through the file directory\n",
    "#first, pull all text file path links into another variable\n",
    "#then, recursively open those files, add them into lists(?)\n",
    "#could be unequal size so difficult to put in a dataframe\n",
    "#I want a count of how many ab residues per HLA\n",
    "\n",
    "name = \"molecule_2\"\n",
    "exten = '.txt'\n",
    "\n",
    "results = str()\n",
    "\n",
    "\n",
    "\n",
    "ab_namefile = 'ab_name.txt'\n",
    "for dirName, subdirlist, filelist in os.walk(path):\n",
    "    #print('Found directory: %s' % dirName)\n",
    "    for fname in filelist:\n",
    "        #print('\\t%s'% fname )\n",
    "        if fname.startswith(name) and fname.endswith(exten):\n",
    "            count +=1\n",
    "            results +=os.path.join(dirName,fname)\n",
    "            for i in 1:count:\n",
    "                    i_df = pd.read_csv(,delim_whitespace=True)\n",
    "\n",
    "\n",
    "\n",
    "print(results)\n",
    "\n",
    "#writing to file\n",
    "#with open(ab_namefile,'w') as ab_list:\n",
    "    #ab_list.write(results)"
   ]
  },
  {
   "cell_type": "code",
   "execution_count": 67,
   "metadata": {},
   "outputs": [
    {
     "data": {
      "text/plain": [
       "959"
      ]
     },
     "execution_count": 67,
     "metadata": {},
     "output_type": "execute_result"
    }
   ],
   "source": []
  },
  {
   "cell_type": "code",
   "execution_count": 66,
   "metadata": {},
   "outputs": [
    {
     "ename": "TypeError",
     "evalue": "object of type '_io.TextIOWrapper' has no len()",
     "output_type": "error",
     "traceback": [
      "\u001b[0;31m---------------------------------------------------------------------------\u001b[0m",
      "\u001b[0;31mTypeError\u001b[0m                                 Traceback (most recent call last)",
      "\u001b[0;32m<ipython-input-66-376bb86d7e25>\u001b[0m in \u001b[0;36m<module>\u001b[0;34m\u001b[0m\n\u001b[1;32m      2\u001b[0m \u001b[0mab_df\u001b[0m \u001b[0;34m=\u001b[0m\u001b[0;34m[\u001b[0m\u001b[0;34m]\u001b[0m\u001b[0;34m\u001b[0m\u001b[0;34m\u001b[0m\u001b[0m\n\u001b[1;32m      3\u001b[0m \u001b[0;34m\u001b[0m\u001b[0m\n\u001b[0;32m----> 4\u001b[0;31m \u001b[0mprint\u001b[0m\u001b[0;34m(\u001b[0m\u001b[0mlen\u001b[0m\u001b[0;34m(\u001b[0m\u001b[0mopen\u001b[0m\u001b[0;34m(\u001b[0m\u001b[0;34m'ab_name.txt'\u001b[0m\u001b[0;34m)\u001b[0m\u001b[0;34m)\u001b[0m\u001b[0;34m)\u001b[0m\u001b[0;34m\u001b[0m\u001b[0;34m\u001b[0m\u001b[0m\n\u001b[0m\u001b[1;32m      5\u001b[0m \u001b[0;31m#for paths in open('ab_name.txt').readlines():\u001b[0m\u001b[0;34m\u001b[0m\u001b[0;34m\u001b[0m\u001b[0;34m\u001b[0m\u001b[0m\n\u001b[1;32m      6\u001b[0m     \u001b[0;31m#edit_path = paths.rstrip('\\n')\u001b[0m\u001b[0;34m\u001b[0m\u001b[0;34m\u001b[0m\u001b[0;34m\u001b[0m\u001b[0m\n",
      "\u001b[0;31mTypeError\u001b[0m: object of type '_io.TextIOWrapper' has no len()"
     ]
    }
   ],
   "source": [
    "#now to read through the paths:\n",
    "ab_df =[]\n",
    "\n",
    "\n",
    "#for paths in open('ab_name.txt').readlines():\n",
    "    #edit_path = paths.rstrip('\\n')\n",
    "    #print(edit_path)\n",
    "    #for i in range(1:len(paths)):\n",
    "            #df_i = pd.read_csv(edit_path,delim_whitespace=True)\n",
    "    #test= pd.read_fwf(edit_path)\n",
    "    #base = os.path.basename(edit_path)\n",
    "    #test.to_csv('{}.csv'.format(base))\n",
    "    #for file in edit_path:\n",
    "\n",
    "    \n",
    "    #print(edit_path)\n",
    "    #ab_df.append(pd.read_csv(edit_path,delim_whitespace=True,))#engine='python'\n",
    "#ab_df\n",
    "#test"
   ]
  },
  {
   "cell_type": "code",
   "execution_count": 56,
   "metadata": {},
   "outputs": [
    {
     "data": {
      "text/plain": [
       "'/mnt/c/Users/sampurna/OneDrive - emblebi/a_current_work_in_progres/current_work_from_feb_2020/wim_interfaces/out_wim_0101/molecule_1.txt'"
      ]
     },
     "execution_count": 56,
     "metadata": {},
     "output_type": "execute_result"
    }
   ],
   "source": [
    "#path for HLA residues in the interface\n",
    "path = os.getcwd()\n",
    "path\n",
    "mol_1 = \"molecule_1.txt\"\n",
    "new_path =os.path.join(path,directory_name, mol_1)\n",
    "\n",
    "new_path"
   ]
  },
  {
   "cell_type": "code",
   "execution_count": 25,
   "metadata": {},
   "outputs": [
    {
     "data": {
      "text/plain": [
       "'/mnt/c/Users/sampurna/OneDrive - emblebi/a_current_work_in_progres/current_work_from_feb_2020/wim_interfaces/out_wim_0201/molecule_2.txt'"
      ]
     },
     "execution_count": 25,
     "metadata": {},
     "output_type": "execute_result"
    }
   ],
   "source": [
    "#path for Ab residues in the interface\n",
    "mol_2 = \"molecule_2.txt\"\n",
    "new_path_2 =os.path.join(path,directory_name, mol_2)\n",
    "\n",
    "new_path_2"
   ]
  },
  {
   "cell_type": "code",
   "execution_count": 28,
   "metadata": {},
   "outputs": [
    {
     "data": {
      "text/html": [
       "<div>\n",
       "<style scoped>\n",
       "    .dataframe tbody tr th:only-of-type {\n",
       "        vertical-align: middle;\n",
       "    }\n",
       "\n",
       "    .dataframe tbody tr th {\n",
       "        vertical-align: top;\n",
       "    }\n",
       "\n",
       "    .dataframe thead th {\n",
       "        text-align: right;\n",
       "    }\n",
       "</style>\n",
       "<table border=\"1\" class=\"dataframe\">\n",
       "  <thead>\n",
       "    <tr style=\"text-align: right;\">\n",
       "      <th></th>\n",
       "      <th>A</th>\n",
       "      <th>282</th>\n",
       "      <th>C</th>\n",
       "    </tr>\n",
       "  </thead>\n",
       "  <tbody>\n",
       "    <tr>\n",
       "      <td>0</td>\n",
       "      <td>A</td>\n",
       "      <td>274</td>\n",
       "      <td>C</td>\n",
       "    </tr>\n",
       "    <tr>\n",
       "      <td>1</td>\n",
       "      <td>A</td>\n",
       "      <td>253</td>\n",
       "      <td>C</td>\n",
       "    </tr>\n",
       "    <tr>\n",
       "      <td>2</td>\n",
       "      <td>A</td>\n",
       "      <td>269</td>\n",
       "      <td>C</td>\n",
       "    </tr>\n",
       "    <tr>\n",
       "      <td>3</td>\n",
       "      <td>A</td>\n",
       "      <td>285</td>\n",
       "      <td>C</td>\n",
       "    </tr>\n",
       "    <tr>\n",
       "      <td>4</td>\n",
       "      <td>A</td>\n",
       "      <td>280</td>\n",
       "      <td>C</td>\n",
       "    </tr>\n",
       "    <tr>\n",
       "      <td>5</td>\n",
       "      <td>A</td>\n",
       "      <td>264</td>\n",
       "      <td>C</td>\n",
       "    </tr>\n",
       "    <tr>\n",
       "      <td>6</td>\n",
       "      <td>A</td>\n",
       "      <td>255</td>\n",
       "      <td>C</td>\n",
       "    </tr>\n",
       "    <tr>\n",
       "      <td>7</td>\n",
       "      <td>A</td>\n",
       "      <td>248</td>\n",
       "      <td>C</td>\n",
       "    </tr>\n",
       "    <tr>\n",
       "      <td>8</td>\n",
       "      <td>A</td>\n",
       "      <td>273</td>\n",
       "      <td>C</td>\n",
       "    </tr>\n",
       "    <tr>\n",
       "      <td>9</td>\n",
       "      <td>A</td>\n",
       "      <td>469</td>\n",
       "      <td>C</td>\n",
       "    </tr>\n",
       "    <tr>\n",
       "      <td>10</td>\n",
       "      <td>A</td>\n",
       "      <td>247</td>\n",
       "      <td>C</td>\n",
       "    </tr>\n",
       "    <tr>\n",
       "      <td>11</td>\n",
       "      <td>A</td>\n",
       "      <td>324</td>\n",
       "      <td>C</td>\n",
       "    </tr>\n",
       "    <tr>\n",
       "      <td>12</td>\n",
       "      <td>A</td>\n",
       "      <td>278</td>\n",
       "      <td>C</td>\n",
       "    </tr>\n",
       "    <tr>\n",
       "      <td>13</td>\n",
       "      <td>A</td>\n",
       "      <td>249</td>\n",
       "      <td>C</td>\n",
       "    </tr>\n",
       "    <tr>\n",
       "      <td>14</td>\n",
       "      <td>A</td>\n",
       "      <td>246</td>\n",
       "      <td>C</td>\n",
       "    </tr>\n",
       "    <tr>\n",
       "      <td>15</td>\n",
       "      <td>A</td>\n",
       "      <td>279</td>\n",
       "      <td>C</td>\n",
       "    </tr>\n",
       "    <tr>\n",
       "      <td>16</td>\n",
       "      <td>A</td>\n",
       "      <td>326</td>\n",
       "      <td>C</td>\n",
       "    </tr>\n",
       "    <tr>\n",
       "      <td>17</td>\n",
       "      <td>A</td>\n",
       "      <td>267</td>\n",
       "      <td>C</td>\n",
       "    </tr>\n",
       "    <tr>\n",
       "      <td>18</td>\n",
       "      <td>A</td>\n",
       "      <td>244</td>\n",
       "      <td>C</td>\n",
       "    </tr>\n",
       "  </tbody>\n",
       "</table>\n",
       "</div>"
      ],
      "text/plain": [
       "    A  282  C\n",
       "0   A  274  C\n",
       "1   A  253  C\n",
       "2   A  269  C\n",
       "3   A  285  C\n",
       "4   A  280  C\n",
       "5   A  264  C\n",
       "6   A  255  C\n",
       "7   A  248  C\n",
       "8   A  273  C\n",
       "9   A  469  C\n",
       "10  A  247  C\n",
       "11  A  324  C\n",
       "12  A  278  C\n",
       "13  A  249  C\n",
       "14  A  246  C\n",
       "15  A  279  C\n",
       "16  A  326  C\n",
       "17  A  267  C\n",
       "18  A  244  C"
      ]
     },
     "execution_count": 28,
     "metadata": {},
     "output_type": "execute_result"
    }
   ],
   "source": [
    "#loading hla res into csvs\n",
    "wim_contacts_hla= pd.read_csv(new_path,delim_whitespace=True)\n",
    "wim_contacts_hla\n",
    "#wim_contacts_hla.info()\n"
   ]
  },
  {
   "cell_type": "code",
   "execution_count": 31,
   "metadata": {},
   "outputs": [
    {
     "data": {
      "text/plain": [
       "20"
      ]
     },
     "execution_count": 31,
     "metadata": {},
     "output_type": "execute_result"
    }
   ],
   "source": [
    "#loading hla res into csvs\n",
    "wim_contacts_ab= pd.read_csv(new_path_2,delim_whitespace=True)\n",
    "wim_contacts_ab\n",
    "total_rows=len(wim_contacts_ab.axes[0])\n",
    "#total_rows\n",
    "#wim_contacts_ab.info()"
   ]
  },
  {
   "cell_type": "code",
   "execution_count": 32,
   "metadata": {},
   "outputs": [
    {
     "data": {
      "text/plain": [
       "['A1101', 'A2501', 'A0101', 'A3101', 'A2402', 'A0201']"
      ]
     },
     "execution_count": 32,
     "metadata": {},
     "output_type": "execute_result"
    }
   ],
   "source": [
    "#creating a dataframe for plotting\n",
    "#list of hla names\n",
    "hla_names = [\"A1101\",\"A2501\",\"A0101\",\"A3101\",\"A2402\",\"A0201\"]\n",
    "hla_names\n"
   ]
  },
  {
   "cell_type": "code",
   "execution_count": null,
   "metadata": {},
   "outputs": [],
   "source": []
  },
  {
   "cell_type": "code",
   "execution_count": null,
   "metadata": {},
   "outputs": [],
   "source": []
  },
  {
   "cell_type": "code",
   "execution_count": null,
   "metadata": {},
   "outputs": [],
   "source": [
    "\n",
    "\n",
    "\n"
   ]
  },
  {
   "cell_type": "code",
   "execution_count": null,
   "metadata": {},
   "outputs": [],
   "source": [
    "\n"
   ]
  }
 ],
 "metadata": {
  "kernelspec": {
   "display_name": "Python 3",
   "language": "python",
   "name": "python3"
  },
  "language_info": {
   "codemirror_mode": {
    "name": "ipython",
    "version": 3
   },
   "file_extension": ".py",
   "mimetype": "text/x-python",
   "name": "python",
   "nbconvert_exporter": "python",
   "pygments_lexer": "ipython3",
   "version": "3.7.4"
  }
 },
 "nbformat": 4,
 "nbformat_minor": 2
}
