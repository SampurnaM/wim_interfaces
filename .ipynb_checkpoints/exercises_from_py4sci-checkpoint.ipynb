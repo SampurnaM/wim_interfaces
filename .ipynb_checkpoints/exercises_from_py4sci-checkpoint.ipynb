{
 "cells": [
  {
   "cell_type": "code",
   "execution_count": 1,
   "metadata": {},
   "outputs": [
    {
     "data": {
      "text/plain": [
       "64"
      ]
     },
     "execution_count": 1,
     "metadata": {},
     "output_type": "execute_result"
    }
   ],
   "source": [
    "#examples from Python for Scientists course : https://astrofrog.github.io/py4sci/\n",
    "#exercise 1\n",
    "#The operator for raising one value to the power of another is **. Try calculating  43 ,  2+3.42 , and  (1+i)2 . \n",
    "#What is the type of the output in each case, and does it make sense?\n",
    "\n",
    "cube = 4**3\n",
    "cube"
   ]
  },
  {
   "cell_type": "code",
   "execution_count": 3,
   "metadata": {},
   "outputs": [
    {
     "data": {
      "text/plain": [
       "13.559999999999999"
      ]
     },
     "execution_count": 3,
     "metadata": {},
     "output_type": "execute_result"
    }
   ],
   "source": [
    "square = 2 + (3.4**2)\n",
    "square"
   ]
  },
  {
   "cell_type": "code",
   "execution_count": 5,
   "metadata": {},
   "outputs": [
    {
     "data": {
      "text/plain": [
       "2j"
      ]
     },
     "execution_count": 5,
     "metadata": {},
     "output_type": "execute_result"
    }
   ],
   "source": [
    "comp = complex(1+1j)**2\n",
    "comp"
   ]
  },
  {
   "cell_type": "code",
   "execution_count": 8,
   "metadata": {},
   "outputs": [
    {
     "data": {
      "text/plain": [
       "'Hello,world!'"
      ]
     },
     "execution_count": 8,
     "metadata": {},
     "output_type": "execute_result"
    }
   ],
   "source": [
    "#exercise two : a = \"Hello, egg world!\" cretae new strig without egg\n",
    "\n",
    "a = \"Hello, egg world!\"\n",
    "x= \"egg\"\n",
    "#new_a = a - x\n",
    "#new_a (nope)\n",
    "\n",
    "a_list = a.split()\n",
    "a_list\n",
    "\n",
    "new_a = a_list[0]+ a_list[2]\n",
    "new_a\n"
   ]
  },
  {
   "cell_type": "code",
   "execution_count": 17,
   "metadata": {},
   "outputs": [
    {
     "data": {
      "text/plain": [
       "8"
      ]
     },
     "execution_count": 17,
     "metadata": {},
     "output_type": "execute_result"
    }
   ],
   "source": [
    "#count how many A is there in s = \"CAGTACCAAGTGAAAGAT\"\n",
    "s = \"CAGTACCAAGTGAAAGAT\"\n",
    "#list_s = s.split()\n",
    "#list_s\n",
    "s.count(\"A\")"
   ]
  },
  {
   "cell_type": "code",
   "execution_count": 20,
   "metadata": {},
   "outputs": [
    {
     "data": {
      "text/plain": [
       "[1, 2, 3, 4, 5, 6]"
      ]
     },
     "execution_count": 20,
     "metadata": {},
     "output_type": "execute_result"
    }
   ],
   "source": [
    "#make a new list with elements from a = [1, 2, 3] and b = [4, 5, 6]\n",
    "a =[1,2,3]\n",
    "b = [4, 5, 6]\n",
    "c = a+b\n",
    "c"
   ]
  },
  {
   "cell_type": "code",
   "execution_count": 26,
   "metadata": {},
   "outputs": [
    {
     "data": {
      "text/plain": [
       "False"
      ]
     },
     "execution_count": 26,
     "metadata": {},
     "output_type": "execute_result"
    }
   ],
   "source": [
    "#Write an expression that returns True if x is strictly greater than 3.4 and smaller or equal to 6.6, or if it is 2, and try changing x to see if it works:\n",
    "x = 1.9\n",
    "(x > 3.4 and x <= 6.6) or x == 2.0"
   ]
  },
  {
   "cell_type": "code",
   "execution_count": 27,
   "metadata": {},
   "outputs": [],
   "source": [
    "#try making a dictionary for translating ENglish to Bangla and try using it\n",
    "\n",
    "ovidhan = {'how are you':'kyamon achho','I am good':'valo achhi'}"
   ]
  },
  {
   "cell_type": "code",
   "execution_count": 28,
   "metadata": {},
   "outputs": [
    {
     "name": "stdout",
     "output_type": "stream",
     "text": [
      "{'how are you': 'kyamon achho', 'I am good': 'valo achhi'}\n"
     ]
    }
   ],
   "source": [
    "print (ovidhan)"
   ]
  },
  {
   "cell_type": "code",
   "execution_count": 29,
   "metadata": {},
   "outputs": [
    {
     "data": {
      "text/plain": [
       "'kyamon achho'"
      ]
     },
     "execution_count": 29,
     "metadata": {},
     "output_type": "execute_result"
    }
   ],
   "source": [
    "ovidhan['how are you']"
   ]
  },
  {
   "cell_type": "code",
   "execution_count": 13,
   "metadata": {},
   "outputs": [
    {
     "name": "stdout",
     "output_type": "stream",
     "text": [
      "i is 2\n",
      "count is, 1\n",
      "j is 2\n",
      "count is, 2\n",
      "j is 2\n",
      "i is 3\n",
      "count is, 3\n",
      "j is 2\n",
      "count is, 4\n",
      "j is 3\n",
      "i is 4\n",
      "count is, 5\n",
      "j is 2\n",
      "count is, 6\n",
      "j is 4\n"
     ]
    }
   ],
   "source": [
    "#control flow\n",
    "#Write a program that will print out all the prime numbers (numbers divisible only by one and themselves) below 1000.\n",
    "count = 0\n",
    "for i in range(2,5):\n",
    "    print('i is',i)\n",
    "    for j in (2,i):\n",
    "        count += 1\n",
    "        print('count is,',count)\n",
    "        print('j is',j)\n",
    "       \n",
    "        #print(i)"
   ]
  },
  {
   "cell_type": "code",
   "execution_count": 26,
   "metadata": {},
   "outputs": [
    {
     "name": "stdout",
     "output_type": "stream",
     "text": [
      "[0, 1, 1, 2, 3, 5, 8, 13, 21, 34, 55, 89, 144, 233, 377, 610, 987, 1597, 2584, 4181, 6765, 10946, 17711, 28657, 46368, 75025]\n"
     ]
    },
    {
     "ename": "AttributeError",
     "evalue": "'float' object has no attribute 'sqrt'",
     "output_type": "error",
     "traceback": [
      "\u001b[0;31m---------------------------------------------------------------------------\u001b[0m",
      "\u001b[0;31mAttributeError\u001b[0m                            Traceback (most recent call last)",
      "\u001b[0;32m<ipython-input-26-4f7774823e1c>\u001b[0m in \u001b[0;36m<module>\u001b[0;34m\u001b[0m\n\u001b[1;32m     16\u001b[0m \u001b[0;32mfor\u001b[0m \u001b[0mi\u001b[0m \u001b[0;32min\u001b[0m \u001b[0mfib\u001b[0m\u001b[0;34m:\u001b[0m\u001b[0;34m\u001b[0m\u001b[0;34m\u001b[0m\u001b[0m\n\u001b[1;32m     17\u001b[0m     \u001b[0mx\u001b[0m \u001b[0;34m=\u001b[0m \u001b[0mfloat\u001b[0m\u001b[0;34m(\u001b[0m\u001b[0mi\u001b[0m\u001b[0;34m)\u001b[0m\u001b[0;34m\u001b[0m\u001b[0;34m\u001b[0m\u001b[0m\n\u001b[0;32m---> 18\u001b[0;31m     \u001b[0;32mif\u001b[0m \u001b[0mx\u001b[0m\u001b[0;34m.\u001b[0m\u001b[0msqrt\u001b[0m\u001b[0;34m(\u001b[0m\u001b[0;34m)\u001b[0m\u001b[0;34m.\u001b[0m\u001b[0mis_integer\u001b[0m\u001b[0;34m(\u001b[0m\u001b[0;34m)\u001b[0m \u001b[0;34m==\u001b[0m \u001b[0;32mTrue\u001b[0m\u001b[0;34m:\u001b[0m\u001b[0;34m\u001b[0m\u001b[0;34m\u001b[0m\u001b[0m\n\u001b[0m\u001b[1;32m     19\u001b[0m         \u001b[0mprint\u001b[0m\u001b[0;34m(\u001b[0m\u001b[0mx\u001b[0m\u001b[0;34m)\u001b[0m\u001b[0;34m\u001b[0m\u001b[0;34m\u001b[0m\u001b[0m\n",
      "\u001b[0;31mAttributeError\u001b[0m: 'float' object has no attribute 'sqrt'"
     ]
    }
   ],
   "source": [
    "#while: \n",
    "#Write a program (using a while loop) that will find the Fibonacci sequence up to (and excluding) 100000. \n",
    "#The two first numbers are 0 and 1, and every subsequent number is the sum of the two previous ones, so the sequence starts\n",
    "#[0, 1, 1, 2, 3, 5, ...].\n",
    "\n",
    "#Optional: Store the sequence inside a Python list,\n",
    "#and only print out the whole list to the screen once all the numbers are available. \n",
    "#Then, check whether any of the numbers in the sequence are a square (e.g. 0*0, 1*1, 2*2, 3*3, 4*4)\n",
    "#and print out those that are.\n",
    "import math\n",
    "fib = [0, 1]\n",
    "while fib[-1] + fib[-2] < 100000:\n",
    "    fib.append(fib[-1] + fib[-2])\n",
    "print(fib)\n",
    "\n"
   ]
  },
  {
   "cell_type": "code",
   "execution_count": 31,
   "metadata": {},
   "outputs": [],
   "source": [
    "#writing functions\n",
    "#Copy your code that finds prime numbers here and modify it \n",
    "#so as to make it a function that given a number will return\n",
    "#True or False depending on whether it is prime.\n",
    "\n",
    "def is_prime(x):\n",
    "    if x == 1 or x == 2:\n",
    "        print(x ,'is prime ')\n",
    "    for j in range(2,x):\n",
    "        if x % j == 0 :\n",
    "            return False\n",
    "    else:\n",
    "        return True"
   ]
  },
  {
   "cell_type": "code",
   "execution_count": 38,
   "metadata": {},
   "outputs": [],
   "source": [
    "#Try and write a function that will return the factorial of a number\n",
    "#(e.g. 5!=5*4*3*2*1). First you can try and write a function that\n",
    "#uses a loop internally.\n",
    "#It is possible for functions to call themselves (recursive functions),\n",
    "#so see if you can write a function that uses no loops!\n",
    "\n",
    "def chop_number(x):\n",
    "    x = x-1\n",
    "    return x\n",
    "\n"
   ]
  },
  {
   "cell_type": "code",
   "execution_count": 40,
   "metadata": {},
   "outputs": [],
   "source": [
    "def factorial(x):\n",
    "    if x > 0:\n",
    "        return x * factorial(x - 1)\n",
    "    else:\n",
    "        return 1"
   ]
  },
  {
   "cell_type": "code",
   "execution_count": 42,
   "metadata": {},
   "outputs": [
    {
     "data": {
      "text/plain": [
       "5040"
      ]
     },
     "execution_count": 42,
     "metadata": {},
     "output_type": "execute_result"
    }
   ],
   "source": [
    "factorial(7)"
   ]
  },
  {
   "cell_type": "code",
   "execution_count": 53,
   "metadata": {},
   "outputs": [],
   "source": [
    "#Write a function that takes a list, and returns the mean of the values.\n",
    "#Test it with the following list:\n",
    "# mean([1, 3, 4, 5, 6, 7])\n",
    "\n",
    "def mean_val(x):\n",
    "    l = len(x)\n",
    "    total = 0\n",
    "    for i in x:\n",
    "        total = total + i\n",
    "        \n",
    "    mean = total/ l\n",
    "    return mean\n",
    "        "
   ]
  },
  {
   "cell_type": "code",
   "execution_count": 54,
   "metadata": {},
   "outputs": [
    {
     "data": {
      "text/plain": [
       "4.333333333333333"
      ]
     },
     "execution_count": 54,
     "metadata": {},
     "output_type": "execute_result"
    }
   ],
   "source": [
    "z = [1, 3, 4, 5, 6, 7]\n",
    "mean_val(z)"
   ]
  },
  {
   "cell_type": "code",
   "execution_count": 71,
   "metadata": {},
   "outputs": [],
   "source": [
    "#reading and writing\n",
    "f = open('./ab_name.txt','r')"
   ]
  },
  {
   "cell_type": "code",
   "execution_count": 72,
   "metadata": {},
   "outputs": [
    {
     "data": {
      "text/plain": [
       "_io.TextIOWrapper"
      ]
     },
     "execution_count": 72,
     "metadata": {},
     "output_type": "execute_result"
    }
   ],
   "source": [
    "type(f)"
   ]
  },
  {
   "cell_type": "code",
   "execution_count": 73,
   "metadata": {},
   "outputs": [
    {
     "data": {
      "text/plain": [
       "'/mnt/c/Users/sampurna/OneDrive - emblebi/a_current_work_in_progres/current_work_from_feb_2020/wim_interfaces/out_wim_0101/molecule_2.txt\\n/mnt/c/Users/sampurna/OneDrive - emblebi/a_current_work_in_progres/current_work_from_feb_2020/wim_interfaces/out_wim_0201/molecule_2.txt\\n/mnt/c/Users/sampurna/OneDrive - emblebi/a_current_work_in_progres/current_work_from_feb_2020/wim_interfaces/out_wim_1101/molecule_2.txt\\n/mnt/c/Users/sampurna/OneDrive - emblebi/a_current_work_in_progres/current_work_from_feb_2020/wim_interfaces/out_wim_1102/molecule_2.txt\\n/mnt/c/Users/sampurna/OneDrive - emblebi/a_current_work_in_progres/current_work_from_feb_2020/wim_interfaces/out_wim_2402/molecule_2.txt\\n/mnt/c/Users/sampurna/OneDrive - emblebi/a_current_work_in_progres/current_work_from_feb_2020/wim_interfaces/out_wim_2501/molecule_2.txt\\n/mnt/c/Users/sampurna/OneDrive - emblebi/a_current_work_in_progres/current_work_from_feb_2020/wim_interfaces/out_wim_3101/molecule_2.txt\\n'"
      ]
     },
     "execution_count": 73,
     "metadata": {},
     "output_type": "execute_result"
    }
   ],
   "source": [
    "data = f.read()\n",
    "data"
   ]
  },
  {
   "cell_type": "code",
   "execution_count": 75,
   "metadata": {},
   "outputs": [
    {
     "name": "stdout",
     "output_type": "stream",
     "text": [
      "'/mnt/c/Users/sampurna/OneDrive - emblebi/a_current_work_in_progres/current_work_from_feb_2020/wim_interfaces/out_wim_0101/molecule_2.txt\\n'\n",
      "'/mnt/c/Users/sampurna/OneDrive - emblebi/a_current_work_in_progres/current_work_from_feb_2020/wim_interfaces/out_wim_0201/molecule_2.txt\\n'\n",
      "'/mnt/c/Users/sampurna/OneDrive - emblebi/a_current_work_in_progres/current_work_from_feb_2020/wim_interfaces/out_wim_1101/molecule_2.txt\\n'\n",
      "'/mnt/c/Users/sampurna/OneDrive - emblebi/a_current_work_in_progres/current_work_from_feb_2020/wim_interfaces/out_wim_1102/molecule_2.txt\\n'\n",
      "'/mnt/c/Users/sampurna/OneDrive - emblebi/a_current_work_in_progres/current_work_from_feb_2020/wim_interfaces/out_wim_2402/molecule_2.txt\\n'\n",
      "'/mnt/c/Users/sampurna/OneDrive - emblebi/a_current_work_in_progres/current_work_from_feb_2020/wim_interfaces/out_wim_2501/molecule_2.txt\\n'\n",
      "'/mnt/c/Users/sampurna/OneDrive - emblebi/a_current_work_in_progres/current_work_from_feb_2020/wim_interfaces/out_wim_3101/molecule_2.txt\\n'\n"
     ]
    }
   ],
   "source": [
    "f = open('./ab_name.txt','r')\n",
    "for line in f:\n",
    "    print(repr(line))\n",
    "#repr shows invisible characters  "
   ]
  },
  {
   "cell_type": "code",
   "execution_count": 76,
   "metadata": {},
   "outputs": [
    {
     "data": {
      "text/plain": [
       "'/mnt/c/Users/sampurna/OneDrive - emblebi/a_current_work_in_progres/current_work_from_feb_2020/wim_interfaces/out_wim_3101/molecule_2.txt\\n'"
      ]
     },
     "execution_count": 76,
     "metadata": {},
     "output_type": "execute_result"
    }
   ],
   "source": [
    "line"
   ]
  },
  {
   "cell_type": "code",
   "execution_count": 77,
   "metadata": {},
   "outputs": [],
   "source": [
    "line = line.strip()"
   ]
  },
  {
   "cell_type": "code",
   "execution_count": 78,
   "metadata": {},
   "outputs": [
    {
     "data": {
      "text/plain": [
       "'/mnt/c/Users/sampurna/OneDrive - emblebi/a_current_work_in_progres/current_work_from_feb_2020/wim_interfaces/out_wim_3101/molecule_2.txt'"
      ]
     },
     "execution_count": 78,
     "metadata": {},
     "output_type": "execute_result"
    }
   ],
   "source": [
    "line"
   ]
  },
  {
   "cell_type": "code",
   "execution_count": 79,
   "metadata": {},
   "outputs": [],
   "source": [
    "columns = line.split()"
   ]
  },
  {
   "cell_type": "code",
   "execution_count": 80,
   "metadata": {},
   "outputs": [
    {
     "data": {
      "text/plain": [
       "['/mnt/c/Users/sampurna/OneDrive',\n",
       " '-',\n",
       " 'emblebi/a_current_work_in_progres/current_work_from_feb_2020/wim_interfaces/out_wim_3101/molecule_2.txt']"
      ]
     },
     "execution_count": 80,
     "metadata": {},
     "output_type": "execute_result"
    }
   ],
   "source": [
    "columns"
   ]
  },
  {
   "cell_type": "code",
   "execution_count": 81,
   "metadata": {},
   "outputs": [],
   "source": [
    "file_name = columns[2]"
   ]
  },
  {
   "cell_type": "code",
   "execution_count": 82,
   "metadata": {},
   "outputs": [
    {
     "data": {
      "text/plain": [
       "'emblebi/a_current_work_in_progres/current_work_from_feb_2020/wim_interfaces/out_wim_3101/molecule_2.txt'"
      ]
     },
     "execution_count": 82,
     "metadata": {},
     "output_type": "execute_result"
    }
   ],
   "source": [
    "file_name"
   ]
  },
  {
   "cell_type": "code",
   "execution_count": 83,
   "metadata": {},
   "outputs": [
    {
     "data": {
      "text/plain": [
       "''"
      ]
     },
     "execution_count": 83,
     "metadata": {},
     "output_type": "execute_result"
    }
   ],
   "source": [
    "#for reading single line\n",
    "line = f.readline()\n",
    "line"
   ]
  },
  {
   "cell_type": "code",
   "execution_count": null,
   "metadata": {},
   "outputs": [],
   "source": [
    "#COULD BE VERY USEFUL FOR PDB FILES\n",
    "# Open file\n",
    "f = open('data/data.txt', 'r')\n",
    "\n",
    "# Read and ignore header lines\n",
    "header1 = f.readline()\n",
    "header2 = f.readline()\n",
    "header3 = f.readline()\n",
    "\n",
    "# Loop over lines and extract variables of interest\n",
    "for line in f:\n",
    "    line = line.strip()\n",
    "    columns = line.split()\n",
    "    name = columns[2]\n",
    "    jmag = float(columns[3])\n",
    "    print(name, jmag)"
   ]
  },
  {
   "cell_type": "code",
   "execution_count": 84,
   "metadata": {},
   "outputs": [
    {
     "ename": "FileNotFoundError",
     "evalue": "[Errno 2] No such file or directory: 'data/data_new.txt'",
     "output_type": "error",
     "traceback": [
      "\u001b[0;31m---------------------------------------------------------------------------\u001b[0m",
      "\u001b[0;31mFileNotFoundError\u001b[0m                         Traceback (most recent call last)",
      "\u001b[0;32m<ipython-input-84-5f50e7decd3a>\u001b[0m in \u001b[0;36m<module>\u001b[0;34m\u001b[0m\n\u001b[1;32m      1\u001b[0m \u001b[0;31m# IN ORDER TO STOP OVERWRITING AND FORGETTING CLOSE FILE, USe with\u001b[0m\u001b[0;34m\u001b[0m\u001b[0;34m\u001b[0m\u001b[0;34m\u001b[0m\u001b[0m\n\u001b[0;32m----> 2\u001b[0;31m \u001b[0;32mwith\u001b[0m \u001b[0mopen\u001b[0m\u001b[0;34m(\u001b[0m\u001b[0;34m'data/data_new.txt'\u001b[0m\u001b[0;34m,\u001b[0m \u001b[0;34m'w'\u001b[0m\u001b[0;34m)\u001b[0m \u001b[0;32mas\u001b[0m \u001b[0mf\u001b[0m\u001b[0;34m:\u001b[0m\u001b[0;34m\u001b[0m\u001b[0;34m\u001b[0m\u001b[0m\n\u001b[0m\u001b[1;32m      3\u001b[0m     \u001b[0mf\u001b[0m\u001b[0;34m.\u001b[0m\u001b[0mwrite\u001b[0m\u001b[0;34m(\u001b[0m\u001b[0;34m'spam\\n'\u001b[0m\u001b[0;34m)\u001b[0m\u001b[0;34m\u001b[0m\u001b[0;34m\u001b[0m\u001b[0m\n",
      "\u001b[0;31mFileNotFoundError\u001b[0m: [Errno 2] No such file or directory: 'data/data_new.txt'"
     ]
    }
   ],
   "source": [
    "# IN ORDER TO STOP OVERWRITING AND FORGETTING CLOSE FILE, USe with\n",
    "with open('data/data_new.txt', 'w') as f:\n",
    "    f.write('spam\\n')"
   ]
  },
  {
   "cell_type": "code",
   "execution_count": null,
   "metadata": {},
   "outputs": [],
   "source": [
    "#for reading and writing together\n",
    "#Continuing from the example in the 'Reading files' section, \n",
    "#can you figure out a way to write out a new file containing two columns\n",
    "#- the name of the source and the Jmag value?\n",
    "# Open file\n",
    "f_in = open('data/data.txt', 'r')\n",
    "f_out = open('data_new.txt', 'w')\n",
    "\n",
    "# Read and ignore header lines\n",
    "header1 = f_in.readline()\n",
    "header2 = f_in.readline()\n",
    "header3 = f_in.readline()\n",
    "\n",
    "# Loop over lines and extract variables of interest\n",
    "for line in f_in:\n",
    "    line = line.strip()\n",
    "    columns = line.split()\n",
    "    name = columns[2]\n",
    "    jmag = float(columns[3])\n",
    "    f_out.write(name + \" \" + str(jmag) + \"\\n\")\n",
    "\n",
    "f_out.close()"
   ]
  },
  {
   "cell_type": "code",
   "execution_count": 85,
   "metadata": {},
   "outputs": [],
   "source": [
    "def double(x):\n",
    "    x = x * 2\n",
    "    print(x)"
   ]
  },
  {
   "cell_type": "code",
   "execution_count": 86,
   "metadata": {},
   "outputs": [
    {
     "name": "stdout",
     "output_type": "stream",
     "text": [
      "2\n",
      "1\n"
     ]
    }
   ],
   "source": [
    "x = 1\n",
    "double(x)\n",
    "print(x)"
   ]
  },
  {
   "cell_type": "code",
   "execution_count": 87,
   "metadata": {},
   "outputs": [],
   "source": [
    "def append_3(x):\n",
    "    x.append(3)\n",
    "    print(x)"
   ]
  },
  {
   "cell_type": "code",
   "execution_count": 88,
   "metadata": {},
   "outputs": [],
   "source": [
    "x = [1,2]"
   ]
  },
  {
   "cell_type": "code",
   "execution_count": 89,
   "metadata": {},
   "outputs": [
    {
     "name": "stdout",
     "output_type": "stream",
     "text": [
      "[1, 2, 3]\n"
     ]
    }
   ],
   "source": [
    "append_3(x)"
   ]
  },
  {
   "cell_type": "code",
   "execution_count": 90,
   "metadata": {},
   "outputs": [
    {
     "name": "stdout",
     "output_type": "stream",
     "text": [
      "[1, 2, 3]\n"
     ]
    }
   ],
   "source": [
    "print(x)"
   ]
  },
  {
   "cell_type": "code",
   "execution_count": null,
   "metadata": {},
   "outputs": [],
   "source": [
    "#NUMPY TUTORIALS\n",
    "#Another very useful function in Numpy is numpy.loadtxt which makes it easy to read in data from column-based data. For example, given the following file:\n",
    "data = np.loadtxt('data/columns.txt')\n",
    "data # SINGLE ARRAY\n",
    "#OR\n",
    "#Particular columns into different arrays\n",
    "date, temperature = np.loadtxt('data/columns.txt', unpack=True)"
   ]
  },
  {
   "cell_type": "code",
   "execution_count": null,
   "metadata": {},
   "outputs": [],
   "source": [
    "#OOP\n",
    "#HOLALALALALAA CLASS FOR XYZ COORDINATES\n",
    "class Point(object):\n",
    "    def __init__(self, x, y, z):\n",
    "        self.x = x\n",
    "        self.y = y\n",
    "        self.z = z\n"
   ]
  },
  {
   "cell_type": "code",
   "execution_count": null,
   "metadata": {},
   "outputs": [],
   "source": [
    "pt = Point(1, 2, 3)\n",
    "pt.x"
   ]
  },
  {
   "cell_type": "code",
   "execution_count": null,
   "metadata": {},
   "outputs": [],
   "source": [
    "# to find distances\n",
    "def find_separation(p1, p2):\n",
    "    return np.sqrt((p1.x - p2.x)**2 + (p1.y - p2.y)**2 + (p1.z - p2.z)**2)"
   ]
  }
 ],
 "metadata": {
  "kernelspec": {
   "display_name": "Python 3",
   "language": "python",
   "name": "python3"
  },
  "language_info": {
   "codemirror_mode": {
    "name": "ipython",
    "version": 3
   },
   "file_extension": ".py",
   "mimetype": "text/x-python",
   "name": "python",
   "nbconvert_exporter": "python",
   "pygments_lexer": "ipython3",
   "version": "3.7.4"
  }
 },
 "nbformat": 4,
 "nbformat_minor": 2
}
