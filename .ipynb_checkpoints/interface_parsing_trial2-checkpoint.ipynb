{
 "cells": [
  {
   "cell_type": "code",
   "execution_count": 12,
   "metadata": {},
   "outputs": [],
   "source": [
    "import glob\n",
    "import pandas as pd"
   ]
  },
  {
   "cell_type": "code",
   "execution_count": 16,
   "metadata": {},
   "outputs": [],
   "source": [
    "file_name_list = glob.glob('**/molecule_2*.txt',recursive = True)\n",
    "leng = len(file_name_list)"
   ]
  },
  {
   "cell_type": "code",
   "execution_count": null,
   "metadata": {},
   "outputs": [],
   "source": [
    "ab = []"
   ]
  },
  {
   "cell_type": "code",
   "execution_count": 21,
   "metadata": {},
   "outputs": [
    {
     "name": "stdout",
     "output_type": "stream",
     "text": [
      "    H  199  C\n",
      "0   H  127  C\n",
      "1   H  173  C\n",
      "2   H  179  C\n",
      "3   H  198  C\n",
      "4   H  202  C\n",
      "5   H  175  C\n",
      "6   H  180  C\n",
      "7   H  128  C\n",
      "8   H  174  C\n",
      "9   H  200  C\n",
      "10  H  126  C\n",
      "11  H  232  C\n",
      "12  H  201  C\n"
     ]
    }
   ],
   "source": [
    "for name in file_name_list:\n",
    "    for i in range(0,leng):\n",
    "        with open(name,'r') as f:\n",
    "            \n",
    "\n",
    "print(df_i)"
   ]
  },
  {
   "cell_type": "code",
   "execution_count": null,
   "metadata": {},
   "outputs": [],
   "source": []
  }
 ],
 "metadata": {
  "kernelspec": {
   "display_name": "Python 3",
   "language": "python",
   "name": "python3"
  },
  "language_info": {
   "codemirror_mode": {
    "name": "ipython",
    "version": 3
   },
   "file_extension": ".py",
   "mimetype": "text/x-python",
   "name": "python",
   "nbconvert_exporter": "python",
   "pygments_lexer": "ipython3",
   "version": "3.7.4"
  }
 },
 "nbformat": 4,
 "nbformat_minor": 2
}
