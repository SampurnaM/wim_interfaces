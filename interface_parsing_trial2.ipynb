{
 "cells": [
  {
   "cell_type": "code",
   "execution_count": 10,
   "metadata": {},
   "outputs": [],
   "source": [
    "import glob\n",
    "import pandas as pd\n",
    "from matplotlib import pyplot as plt"
   ]
  },
  {
   "cell_type": "code",
   "execution_count": 11,
   "metadata": {},
   "outputs": [
    {
     "data": {
      "text/plain": [
       "['out_wim_0101/molecule_2.txt',\n",
       " 'out_wim_0201/molecule_2.txt',\n",
       " 'out_wim_1101/molecule_2.txt',\n",
       " 'out_wim_1102/molecule_2.txt',\n",
       " 'out_wim_2402/molecule_2.txt',\n",
       " 'out_wim_2501/molecule_2.txt',\n",
       " 'out_wim_3101/molecule_2.txt']"
      ]
     },
     "execution_count": 11,
     "metadata": {},
     "output_type": "execute_result"
    }
   ],
   "source": [
    "file_name_list = glob.glob('**/molecule_2*.txt',recursive = True)\n",
    "list_name = list(file_name_list)\n",
    "leng = len(list_name)\n",
    "list_name"
   ]
  },
  {
   "cell_type": "code",
   "execution_count": 3,
   "metadata": {},
   "outputs": [],
   "source": [
    "ab = []"
   ]
  },
  {
   "cell_type": "code",
   "execution_count": 13,
   "metadata": {},
   "outputs": [
    {
     "data": {
      "text/plain": [
       "{'out_wim_0101/molecule_2.txt':     L   10  C\n",
       " 0   L   86  C\n",
       " 1   L   46  C\n",
       " 2   H  127  C\n",
       " 3   L  111  C\n",
       " 4   L   87  C\n",
       " 5   L   47  C\n",
       " 6   H  198  C\n",
       " 7   L  112  C\n",
       " 8   H  155  C\n",
       " 9   L   45  C\n",
       " 10  L  109  C\n",
       " 11  H  202  C\n",
       " 12  L   89  C\n",
       " 13  H  206  C\n",
       " 14  H  126  C\n",
       " 15  L  113  C\n",
       " 16  L   48  C\n",
       " 17  H  232  C, 'out_wim_0201/molecule_2.txt':     L   10  C\n",
       " 0   L    5  C\n",
       " 1   L   46  C\n",
       " 2   L  111  C\n",
       " 3   L   12  C\n",
       " 4   L  107  C\n",
       " 5   L   11  C\n",
       " 6   L    4  C\n",
       " 7   H  178  C\n",
       " 8   H  155  C\n",
       " 9   L  106  C\n",
       " 10  L    9  C\n",
       " 11  H  156  C\n",
       " 12  H  202  C\n",
       " 13  H  203  C\n",
       " 14  H  153  C\n",
       " 15  H  180  C\n",
       " 16  L    3  C\n",
       " 17  H  200  C\n",
       " 18  H  201  C\n",
       " 19  H  151  C, 'out_wim_1101/molecule_2.txt':     L   10  C\n",
       " 0   H  124  C\n",
       " 1   L   46  C\n",
       " 2   L  111  C\n",
       " 3   L   90  C\n",
       " 4   L   12  C\n",
       " 5   L  112  C\n",
       " 6   H  155  C\n",
       " 7   L   45  C\n",
       " 8   H  230  C\n",
       " 9   L    9  C\n",
       " 10  L  109  C\n",
       " 11  L   89  C\n",
       " 12  L  113  C\n",
       " 13  L    8  C\n",
       " 14  H  232  C, 'out_wim_1102/molecule_2.txt':     H  124  C\n",
       " 0   L   46  C\n",
       " 1   H  226  C\n",
       " 2   L   47  C\n",
       " 3   H  227  C\n",
       " 4   H  154  C\n",
       " 5   H  228  C\n",
       " 6   H  122  C\n",
       " 7   H  155  C\n",
       " 8   H  116  C\n",
       " 9   H  230  C\n",
       " 10  H  206  C\n",
       " 11  H  118  C\n",
       " 12  L   48  C\n",
       " 13  H  119  C\n",
       " 14  H  121  C\n",
       " 15  H  225  C, 'out_wim_2402/molecule_2.txt':     H  120  C\n",
       " 0   H  124  C\n",
       " 1   H  136  C\n",
       " 2   L   46  C\n",
       " 3   H  226  C\n",
       " 4   L   47  C\n",
       " 5   H  227  C\n",
       " 6   H  154  C\n",
       " 7   H  228  C\n",
       " 8   H  122  C\n",
       " 9   H  155  C\n",
       " 10  H  116  C\n",
       " 11  H  138  C\n",
       " 12  H  230  C\n",
       " 13  H  206  C\n",
       " 14  H  118  C\n",
       " 15  L   48  C\n",
       " 16  H  119  C\n",
       " 17  H  121  C\n",
       " 18  H  225  C, 'out_wim_2501/molecule_2.txt':    H  124  C\n",
       " 0  H  228  C\n",
       " 1  H  230  C\n",
       " 2  H  123  C\n",
       " 3  H  232  C\n",
       " 4  H  201  C, 'out_wim_3101/molecule_2.txt':     H  199  C\n",
       " 0   H  127  C\n",
       " 1   H  173  C\n",
       " 2   H  179  C\n",
       " 3   H  198  C\n",
       " 4   H  202  C\n",
       " 5   H  175  C\n",
       " 6   H  180  C\n",
       " 7   H  128  C\n",
       " 8   H  174  C\n",
       " 9   H  200  C\n",
       " 10  H  126  C\n",
       " 11  H  232  C\n",
       " 12  H  201  C}"
      ]
     },
     "execution_count": 13,
     "metadata": {},
     "output_type": "execute_result"
    }
   ],
   "source": [
    "names = {}\n",
    "for i in list_name:\n",
    "    names[i]= pd.read_csv(i,delim_whitespace=True)\n",
    "names\n",
    "#for name, df in names.items():\n",
    "    #df.plot()"
   ]
  },
  {
   "cell_type": "code",
   "execution_count": 5,
   "metadata": {},
   "outputs": [
    {
     "ename": "AttributeError",
     "evalue": "'list' object has no attribute 'a'",
     "output_type": "error",
     "traceback": [
      "\u001b[0;31m---------------------------------------------------------------------------\u001b[0m",
      "\u001b[0;31mAttributeError\u001b[0m                            Traceback (most recent call last)",
      "\u001b[0;32m<ipython-input-5-30de38e7a06d>\u001b[0m in \u001b[0;36m<module>\u001b[0;34m\u001b[0m\n\u001b[1;32m      2\u001b[0m     \u001b[0;32mfor\u001b[0m \u001b[0mi\u001b[0m \u001b[0;32min\u001b[0m \u001b[0mrange\u001b[0m\u001b[0;34m(\u001b[0m\u001b[0;36m0\u001b[0m\u001b[0;34m,\u001b[0m\u001b[0mleng\u001b[0m\u001b[0;34m)\u001b[0m\u001b[0;34m:\u001b[0m\u001b[0;34m\u001b[0m\u001b[0;34m\u001b[0m\u001b[0m\n\u001b[1;32m      3\u001b[0m         \u001b[0;32mwith\u001b[0m \u001b[0mopen\u001b[0m\u001b[0;34m(\u001b[0m\u001b[0mname\u001b[0m\u001b[0;34m,\u001b[0m\u001b[0;34m'r'\u001b[0m\u001b[0;34m)\u001b[0m \u001b[0;32mas\u001b[0m \u001b[0mf\u001b[0m\u001b[0;34m:\u001b[0m\u001b[0;34m\u001b[0m\u001b[0;34m\u001b[0m\u001b[0m\n\u001b[0;32m----> 4\u001b[0;31m           \u001b[0mab\u001b[0m\u001b[0;34m.\u001b[0m\u001b[0ma\u001b[0m\u001b[0;34m[\u001b[0m\u001b[0;34m[\u001b[0m\u001b[0;34m]\u001b[0m\u001b[0;34m]\u001b[0m\u001b[0;34m\u001b[0m\u001b[0;34m\u001b[0m\u001b[0m\n\u001b[0m\u001b[1;32m      5\u001b[0m \u001b[0;34m\u001b[0m\u001b[0m\n\u001b[1;32m      6\u001b[0m \u001b[0mprint\u001b[0m\u001b[0;34m(\u001b[0m\u001b[0mdf_i\u001b[0m\u001b[0;34m)\u001b[0m\u001b[0;34m\u001b[0m\u001b[0;34m\u001b[0m\u001b[0m\n",
      "\u001b[0;31mAttributeError\u001b[0m: 'list' object has no attribute 'a'"
     ]
    }
   ],
   "source": [
    "for name in list_name:\n",
    "    for i in range(0,leng):\n",
    "        with open(name,'r') as f:\n",
    "          ab.a[[]]  \n",
    "\n",
    "print(df_i)"
   ]
  },
  {
   "cell_type": "code",
   "execution_count": null,
   "metadata": {},
   "outputs": [],
   "source": []
  }
 ],
 "metadata": {
  "kernelspec": {
   "display_name": "Python 3",
   "language": "python",
   "name": "python3"
  },
  "language_info": {
   "codemirror_mode": {
    "name": "ipython",
    "version": 3
   },
   "file_extension": ".py",
   "mimetype": "text/x-python",
   "name": "python",
   "nbconvert_exporter": "python",
   "pygments_lexer": "ipython3",
   "version": "3.7.4"
  }
 },
 "nbformat": 4,
 "nbformat_minor": 2
}
