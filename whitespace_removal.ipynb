{
 "cells": [
  {
   "cell_type": "code",
   "execution_count": 24,
   "metadata": {},
   "outputs": [
    {
     "name": "stdout",
     "output_type": "stream",
     "text": [
      "Enter name of the file to remove whitespace: \n",
      "0201_spc.fasta\n"
     ]
    }
   ],
   "source": [
    "print (\"Enter name of the file to remove whitespace: \")\n",
    "file_name = input()"
   ]
  },
  {
   "cell_type": "code",
   "execution_count": 25,
   "metadata": {},
   "outputs": [
    {
     "name": "stdout",
     "output_type": "stream",
     "text": [
      "Enter name of the output file\n",
      "0201_nospc.fasta\n"
     ]
    }
   ],
   "source": [
    "print (\"Enter name of the output file\")\n",
    "out_fname = input()\n",
    "fasta_output = open(out_fname, 'a')"
   ]
  },
  {
   "cell_type": "code",
   "execution_count": 26,
   "metadata": {},
   "outputs": [],
   "source": [
    "fasta_output = open(out_fname, 'a')"
   ]
  },
  {
   "cell_type": "code",
   "execution_count": 27,
   "metadata": {},
   "outputs": [],
   "source": [
    "fasta = open(file_name)\n",
    "\n",
    "\n",
    "for line in fasta:\n",
    "    if line[0] == '>':\n",
    "        fasta_output.write('\\n')\n",
    "    elif line[0] != '>':\n",
    "        fasta_output.write(line.strip())\n",
    "        #fasta_output.write(line)\n",
    "\n",
    "fasta_output.close()\n",
    "\n",
    "\n",
    "#"
   ]
  },
  {
   "cell_type": "code",
   "execution_count": 36,
   "metadata": {},
   "outputs": [],
   "source": [
    "fasta_output.close()"
   ]
  },
  {
   "cell_type": "code",
   "execution_count": 19,
   "metadata": {},
   "outputs": [],
   "source": []
  },
  {
   "cell_type": "code",
   "execution_count": 21,
   "metadata": {},
   "outputs": [],
   "source": [
    "def remove(string):\n",
    "    return string.replace(\" \",\"\") "
   ]
  }
 ],
 "metadata": {
  "kernelspec": {
   "display_name": "Python 3",
   "language": "python",
   "name": "python3"
  },
  "language_info": {
   "codemirror_mode": {
    "name": "ipython",
    "version": 3
   },
   "file_extension": ".py",
   "mimetype": "text/x-python",
   "name": "python",
   "nbconvert_exporter": "python",
   "pygments_lexer": "ipython3",
   "version": "3.7.4"
  }
 },
 "nbformat": 4,
 "nbformat_minor": 2
}
